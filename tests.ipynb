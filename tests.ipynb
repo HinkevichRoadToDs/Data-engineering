{
 "cells": [
  {
   "cell_type": "code",
   "execution_count": 10,
   "metadata": {
    "collapsed": true
   },
   "outputs": [],
   "source": [
    "import tarfile\n",
    "import gzip\n",
    "from pathlib import Path\n",
    "\n",
    "# with tarfile.open(\"files/filename.tar\", 'r') as file:\n",
    "#     # Извлечение всех содержимого в указанную директорию\n",
    "#     file.extractall(\"files/extracted_data\")"
   ]
  },
  {
   "cell_type": "code",
   "execution_count": 44,
   "outputs": [],
   "source": [
    "extracted_directory = Path('files/extracted_data')\n",
    "for file_path in Path('files/extracted_data').iterdir():\n",
    "\n",
    "    if file_path.suffix == '.gz':\n",
    "        target_file = extracted_directory / file_path.with_suffix('.txt').name\n",
    "        with gzip.open(file_path, 'rt', encoding='utf-8') as f, open(target_file, 'w') as f1:\n",
    "            txt_content = f.read()\n",
    "            f1.write(txt_content)"
   ],
   "metadata": {
    "collapsed": false
   }
  },
  {
   "cell_type": "code",
   "execution_count": 42,
   "outputs": [
    {
     "data": {
      "text/plain": "PosixPath('files/extracted_data/GPL10558_HumanHT-12_V4_0_R1_15002873_B.txt.txt')"
     },
     "execution_count": 42,
     "metadata": {},
     "output_type": "execute_result"
    }
   ],
   "source": [
    "extracted_directory / file_path.with_suffix('.txt').name"
   ],
   "metadata": {
    "collapsed": false
   }
  },
  {
   "cell_type": "code",
   "execution_count": null,
   "outputs": [],
   "source": [],
   "metadata": {
    "collapsed": false
   }
  }
 ],
 "metadata": {
  "kernelspec": {
   "display_name": "Python 3",
   "language": "python",
   "name": "python3"
  },
  "language_info": {
   "codemirror_mode": {
    "name": "ipython",
    "version": 2
   },
   "file_extension": ".py",
   "mimetype": "text/x-python",
   "name": "python",
   "nbconvert_exporter": "python",
   "pygments_lexer": "ipython2",
   "version": "2.7.6"
  }
 },
 "nbformat": 4,
 "nbformat_minor": 0
}
